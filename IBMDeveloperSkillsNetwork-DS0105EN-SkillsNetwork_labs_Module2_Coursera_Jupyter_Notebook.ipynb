{
  "metadata": {
    "kernelspec": {
      "name": "python",
      "display_name": "Pyolite",
      "language": "python"
    },
    "language_info": {
      "codemirror_mode": {
        "name": "python",
        "version": 3
      },
      "file_extension": ".py",
      "mimetype": "text/x-python",
      "name": "python",
      "nbconvert_exporter": "python",
      "pygments_lexer": "ipython3",
      "version": "3.8"
    }
  },
  "nbformat_minor": 4,
  "nbformat": 4,
  "cells": [
    {
      "cell_type": "markdown",
      "source": "<center>\n    <img src=\"https://cf-courses-data.s3.us.cloud-object-storage.appdomain.cloud/IBMDeveloperSkillsNetwork-DS0105EN-SkillsNetwork/labs/Module2/images/SN_web_lightmode.png\" width=\"300\" alt=\"cognitiveclass.ai logo\">\n</center>\n",
      "metadata": {}
    },
    {
      "cell_type": "markdown",
      "source": "# My Jupyter Notebook on IBM Watson Studio",
      "metadata": {
        "tags": []
      }
    },
    {
      "cell_type": "markdown",
      "source": "Name:- PRATEEK KULLU <br>\nOccupation:- Software Developer",
      "metadata": {}
    },
    {
      "cell_type": "markdown",
      "source": "<i>I am interested in data science because it brings insight of the data, get to know a lot about how thing work.\nFor example if you are passionate about fighting the devastating effects of climate change? As a data scientist you might be building more accurate climate models and weather prediction technology, helping to save lives, or you might be working on cutting-edge public transportation projects, cutting down on CO2 emissions.</i>",
      "metadata": {}
    },
    {
      "cell_type": "markdown",
      "source": "### Simple math calculation in bodmas rule",
      "metadata": {}
    },
    {
      "cell_type": "code",
      "source": "1 + 5 * 10",
      "metadata": {
        "trusted": true
      },
      "execution_count": 8,
      "outputs": [
        {
          "execution_count": 8,
          "output_type": "execute_result",
          "data": {
            "text/plain": "51"
          },
          "metadata": {}
        }
      ]
    },
    {
      "cell_type": "markdown",
      "source": "<hr>\n<ul>\n   <li>Coffee</li>\n   <li>Tea</li>\n   <li><a href=\"https://www.google.com/search?q=milk\">Milk</a></li>\n</ul> \n<table>\n    <th>Serial No.</th>\n    <th>Name</th>\n    <tr>\n        <td>1</td>\n        <td><mark>Coffee</mark></td>\n    </tr>\n    <tr>\n        <td>2</td>\n        <td><blockquote>Tea</blockquote></td>\n    </tr>\n    <tr>\n        <td>3</td>\n        <td><s>Milk</s></td>\n    </tr>\n</table>\n<img src=\"https://en.wikipedia.org/wiki/Milk#/media/File:Glass_of_Milk_(33657535532).jpg\"></img>",
      "metadata": {}
    },
    {
      "cell_type": "code",
      "source": "",
      "metadata": {},
      "execution_count": null,
      "outputs": []
    }
  ]
}