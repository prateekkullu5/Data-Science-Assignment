{
 "cells": [
  {
   "cell_type": "markdown",
   "metadata": {},
   "source": [
    "<center>\n",
    "    <img src=\"https://cf-courses-data.s3.us.cloud-object-storage.appdomain.cloud/IBMDeveloperSkillsNetwork-DS0105EN-SkillsNetwork/labs/Module2/images/SN_web_lightmode.png\" width=\"300\" alt=\"cognitiveclass.ai logo\">\n",
    "</center>\n"
   ]
  },
  {
   "cell_type": "markdown",
   "metadata": {},
   "source": [
    "#### Add your code below following the instructions given in the course\n"
   ]
  },
  {
   "cell_type": "markdown",
   "metadata": {},
   "source": [
    "<h1>Data-Science-Assignment</h1>"
   ]
  },
  {
   "cell_type": "markdown",
   "metadata": {},
   "source": [
    "In this notebook is my Peer-graded Assignment summarized for Tools for Data Science."
   ]
  },
  {
   "cell_type": "markdown",
   "metadata": {},
   "source": [
    "Some of the popular languages that Data Scientists use are:\n",
    "<ol>\n",
    "    <li>Python</li>\n",
    "    <li>R</li>\n",
    "    <li>SQL</li>\n",
    "    <li>Java</li>\n",
    "    <li>Julia</li>\n",
    "    <li>Scala</li>\n",
    "    <li>C/C++</li>\n",
    "    <li>JavaScript</li>\n",
    "    <li>PHP</li>\n",
    "    <li>Go</li>\n",
    "    <li>Ruby</li>\n",
    "    <li>Visual Basic</li>\n",
    "</ol>"
   ]
  },
  {
   "cell_type": "markdown",
   "metadata": {},
   "source": [
    "Some of the commonly used libraries used by Data Scientists include:\n",
    "<ol>\n",
    "    <li>TensorFlow</li>\n",
    "    <li>NumPy</li>\n",
    "    <li>SciPy </li>\n",
    "    <li>Seaborn</li>\n",
    "    <li>Matplotlib</li>\n",
    "    <li>Scikit-learn</li>\n",
    "    <li>Keras</li>\n",
    "    <li>PyTorch</li>\n",
    "    <li>TensorFlow</li>\n",
    "    <li>Apache Spark</li>\n",
    "    <li>Vegas</li>\n",
    "    <li>Big DL</li>\n",
    "    <li>Ggplot2</li>\n",
    "</ol>"
   ]
  },
  {
   "cell_type": "markdown",
   "metadata": {},
   "source": [
    "<table>\n",
    "    <th>Data Science Tools</th>\n",
    "    <tr><td>Anaconda</td></tr>\n",
    "    <tr><td>jupiter Notebooks</td></tr>\n",
    "    <tr><td>R Studio</td></tr>\n",
    "    <tr><td>Spyder</td></tr>\n",
    "    <tr><td>Zeppelin</td></tr>\n",
    "</table>"
   ]
  },
  {
   "cell_type": "markdown",
   "metadata": {},
   "source": [
    "### Below are the few examples of evaluating arithmetic expressions in python"
   ]
  },
  {
   "cell_type": "code",
   "execution_count": 6,
   "metadata": {},
   "outputs": [
    {
     "data": {
      "text/plain": [
       "15"
      ]
     },
     "execution_count": 6,
     "metadata": {},
     "output_type": "execute_result"
    }
   ],
   "source": [
    "# First arithmetic expression to multiply then add integer\n",
    "(1 * 5) + 10"
   ]
  },
  {
   "cell_type": "code",
   "execution_count": 7,
   "metadata": {},
   "outputs": [
    {
     "data": {
      "text/plain": [
       "61000"
      ]
     },
     "execution_count": 7,
     "metadata": {},
     "output_type": "execute_result"
    }
   ],
   "source": [
    "# Second arithmetic expression to multiply then add integer\n",
    "(200 * 300) + 1000"
   ]
  },
  {
   "cell_type": "code",
   "execution_count": 9,
   "metadata": {},
   "outputs": [
    {
     "data": {
      "text/plain": [
       "5"
      ]
     },
     "execution_count": 9,
     "metadata": {},
     "output_type": "execute_result"
    }
   ],
   "source": [
    "total_minutes = 300\n",
    "\n",
    "# This is the code which will convert 300 mintues to hours\n",
    "total_minutes // 60"
   ]
  },
  {
   "cell_type": "markdown",
   "metadata": {},
   "source": [
    "<b>Objectives : </b>\n",
    "<ul>\n",
    "    <li>Add comment to code cell.</li>\n",
    "    <li>Create markdown cells.</li>\n",
    "    <li>Add ordered & unordered list to markdown cells.</li>\n",
    "    <li>Format contexts of the markdown cells with heading styles.</li>\n",
    "</ul>"
   ]
  },
  {
   "cell_type": "markdown",
   "metadata": {},
   "source": [
    " ## <b>Author</b>\n",
    " prateek kullu\n",
    " "
   ]
  },
  {
   "cell_type": "code",
   "execution_count": null,
   "metadata": {},
   "outputs": [],
   "source": []
  }
 ],
 "metadata": {
  "kernelspec": {
   "display_name": "Python",
   "language": "python",
   "name": "conda-env-python-py"
  },
  "language_info": {
   "codemirror_mode": {
    "name": "ipython",
    "version": 3
   },
   "file_extension": ".py",
   "mimetype": "text/x-python",
   "name": "python",
   "nbconvert_exporter": "python",
   "pygments_lexer": "ipython3",
   "version": "3.7.12"
  }
 },
 "nbformat": 4,
 "nbformat_minor": 4
}
